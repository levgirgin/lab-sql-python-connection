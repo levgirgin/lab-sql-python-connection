{
 "cells": [
  {
   "cell_type": "code",
   "execution_count": 1,
   "id": "929a950f",
   "metadata": {},
   "outputs": [],
   "source": [
    "import pandas as pd\n",
    "import pymysql\n",
    "from sqlalchemy import create_engine, text\n",
    "\n",
    "from getpass import getpass"
   ]
  },
  {
   "cell_type": "code",
   "execution_count": 2,
   "id": "ff12910a",
   "metadata": {},
   "outputs": [],
   "source": [
    "pwd = getpass()\n",
    "USER = \"root\"\n",
    "HOST = \"localhost\"  \n",
    "BD = \"sakila\""
   ]
  },
  {
   "cell_type": "code",
   "execution_count": 3,
   "id": "55fd355a",
   "metadata": {},
   "outputs": [],
   "source": [
    "con_url = f\"mysql+pymysql://{USER}:{pwd}@{HOST}/{BD}\"\n",
    "\n",
    "engine = create_engine(con_url)"
   ]
  },
  {
   "cell_type": "code",
   "execution_count": 5,
   "id": "0bc38767",
   "metadata": {},
   "outputs": [],
   "source": [
    "def rentals_month(engine, month, year):\n",
    "    query = f\"\"\"\n",
    "    SELECT customer_id, rental_id, rental_date\n",
    "    FROM rental\n",
    "    WHERE MONTH(rental_date) = {month}\n",
    "      AND YEAR(rental_date) = {year};\n",
    "    \"\"\"\n",
    "    df = pd.read_sql(query, engine)\n",
    "    return df"
   ]
  },
  {
   "cell_type": "code",
   "execution_count": 6,
   "id": "90c21e6b",
   "metadata": {},
   "outputs": [],
   "source": [
    "def rental_count_month(df, month, year):\n",
    "    col_name = f\"rentals_{str(month).zfill(2)}_{year}\"\n",
    "    count_df = (\n",
    "        df.groupby(\"customer_id\")\n",
    "        .size()\n",
    "        .reset_index(name=col_name)\n",
    "    )\n",
    "    return count_df"
   ]
  },
  {
   "cell_type": "code",
   "execution_count": 7,
   "id": "c844f1b4",
   "metadata": {},
   "outputs": [],
   "source": [
    "def compare_rentals(df1, df2):\n",
    "    merged = pd.merge(df1, df2, on=\"customer_id\", how=\"inner\")\n",
    "    month1_col = merged.columns[1]\n",
    "    month2_col = merged.columns[2]\n",
    "    merged[\"difference\"] = merged[month2_col] - merged[month1_col]\n",
    "    return merged"
   ]
  },
  {
   "cell_type": "code",
   "execution_count": 8,
   "id": "9bbae178",
   "metadata": {},
   "outputs": [
    {
     "name": "stdout",
     "output_type": "stream",
     "text": [
      "   customer_id  rentals_05_2005  rentals_06_2005  difference\n",
      "0            1                2                7           5\n",
      "1            2                1                1           0\n",
      "2            3                2                4           2\n",
      "3            5                3                5           2\n",
      "4            6                3                4           1\n"
     ]
    }
   ],
   "source": [
    "may_df = rentals_month(engine, 5, 2005)\n",
    "june_df = rentals_month(engine, 6, 2005)\n",
    "\n",
    "may_count_df = rental_count_month(may_df, 5, 2005)\n",
    "june_count_df = rental_count_month(june_df, 6, 2005)\n",
    "\n",
    "comparison_df = compare_rentals(may_count_df, june_count_df)\n",
    "\n",
    "print(comparison_df.head())"
   ]
  },
  {
   "cell_type": "code",
   "execution_count": null,
   "id": "3059b43c",
   "metadata": {},
   "outputs": [],
   "source": []
  }
 ],
 "metadata": {
  "kernelspec": {
   "display_name": "base",
   "language": "python",
   "name": "python3"
  },
  "language_info": {
   "codemirror_mode": {
    "name": "ipython",
    "version": 3
   },
   "file_extension": ".py",
   "mimetype": "text/x-python",
   "name": "python",
   "nbconvert_exporter": "python",
   "pygments_lexer": "ipython3",
   "version": "3.11.7"
  }
 },
 "nbformat": 4,
 "nbformat_minor": 5
}
